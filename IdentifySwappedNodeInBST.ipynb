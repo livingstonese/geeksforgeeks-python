{
 "metadata": {
  "name": "IdentifySwappedNodeInBST"
 }, 
 "nbformat": 2, 
 "worksheets": [
  {
   "cells": [
    {
     "cell_type": "markdown", 
     "source": [
      "### Two nodes of a BST are swapped, correct the BST", 
      "", 
      "Full problem can be found at http://www.geeksforgeeks.org/fix-two-swapped-nodes-of-bst/", 
      "<pre>", 
      "Two of the nodes of a Binary Search Tree (BST) are swapped. Fix (or correct) the BST.", 
      "", 
      "Input Tree:", 
      "         10", 
      "        /  \\", 
      "       5    8", 
      "      / \\", 
      "     2   20", 
      "", 
      "In the above tree, nodes 20 and 8 must be swapped to fix the tree.  ", 
      "Following is the output tree", 
      "         10", 
      "        /  \\", 
      "       5    20", 
      "      / \\", 
      "     2   8", 
      "</pre>"
     ]
    }, 
    {
     "cell_type": "code", 
     "collapsed": true, 
     "input": [
      "import sys", 
      "sys.path.append('.')", 
      "import util", 
      "from util import BinaryTree"
     ], 
     "language": "python", 
     "outputs": [], 
     "prompt_number": 4
    }, 
    {
     "cell_type": "code", 
     "collapsed": false, 
     "input": [
      "def fixBst(rootNode):", 
      "    params = {'first': None, 'middle': None, 'last': None, 'prev': None}", 
      "", 
      "    def findSwappedEltInBst(root):", 
      "        if not root: return", 
      "        findSwappedEltInBst(root._left)", 
      "        if params['prev'] and params['prev']._data > root._data:", 
      "            if params['first']:", 
      "                params['last'] = root", 
      "            else:", 
      "                params['first'] = params['prev']", 
      "                params['middle'] = root", 
      "        params['prev'] = root", 
      "        findSwappedEltInBst(root._right)", 
      "    ", 
      "    findSwappedEltInBst(rootNode)", 
      "    if params['last']:", 
      "        tmp = params['first']._data", 
      "        params['first']._data = params['last']._data", 
      "        params['last']._data = tmp", 
      "    else:", 
      "        tmp = params['first']._data", 
      "        params['first']._data = params['middle']._data", 
      "        params['middle']._data = tmp"
     ], 
     "language": "python", 
     "outputs": [], 
     "prompt_number": 9
    }, 
    {
     "cell_type": "markdown", 
     "source": [
      "#### 1st case:", 
      "The swapped nodes are not adjacent in the inorder traversal."
     ]
    }, 
    {
     "cell_type": "code", 
     "collapsed": false, 
     "input": [
      "root = BinaryTree(10)", 
      "root._left = BinaryTree(5)", 
      "root._right = BinaryTree(8)", 
      "root._left._left = BinaryTree(2)", 
      "root._left._right = BinaryTree(20)", 
      "", 
      "util.inorder(root)", 
      "print ''", 
      "fixBst(root)", 
      "util.inorder(root)"
     ], 
     "language": "python", 
     "outputs": [
      {
       "output_type": "stream", 
       "stream": "stdout", 
       "text": [
        "2   5   20   10   8  ", 
        "", 
        "2   5   8   10   20  "
       ]
      }
     ], 
     "prompt_number": 12
    }, 
    {
     "cell_type": "markdown", 
     "source": [
      "#### 2nd case:", 
      "The swapped nodes are adjacent in the inorder traversal. In this case the params['last'] will not be set."
     ]
    }, 
    {
     "cell_type": "code", 
     "collapsed": false, 
     "input": [
      "root = BinaryTree(8)", 
      "root._left = BinaryTree(5)", 
      "root._right = BinaryTree(20)", 
      "root._left._left = BinaryTree(2)", 
      "root._left._right = BinaryTree(10)", 
      "", 
      "util.inorder(root)", 
      "print ''", 
      "fixBst(root)", 
      "util.inorder(root)"
     ], 
     "language": "python", 
     "outputs": [
      {
       "output_type": "stream", 
       "stream": "stdout", 
       "text": [
        "2   5   10   8   20  ", 
        "", 
        "2   5   8   10   20  "
       ]
      }
     ], 
     "prompt_number": 13
    }
   ]
  }
 ]
}