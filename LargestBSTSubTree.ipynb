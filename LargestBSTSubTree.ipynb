{
 "metadata": {
  "name": "LargestBSTSubTree"
 }, 
 "nbformat": 2, 
 "worksheets": [
  {
   "cells": [
    {
     "cell_type": "code", 
     "collapsed": true, 
     "input": [
      "import sys", 
      "sys.path.append('.')", 
      "from util import BinaryTree"
     ], 
     "language": "python", 
     "outputs": [], 
     "prompt_number": 18
    }, 
    {
     "cell_type": "markdown", 
     "source": [
      "Find the largest BST subtree in a given Binary Tree", 
      "", 
      "Given a Binary Tree, write a function that returns the size of the largest subtree which is also a Binary Search Tree (BST). If the complete Binary Tree is BST, then return the size of whole tree.", 
      "Full Problem at http://www.geeksforgeeks.org/find-the-largest-subtree-in-a-tree-that-is-also-a-bst/"
     ]
    }, 
    {
     "cell_type": "code", 
     "collapsed": true, 
     "input": [
      "def maxBST(node):", 
      "    if node is None:", 
      "        return (None, None, True, 0)", 
      "    if node.isLeafNode():", 
      "        return (node._data, node._data, True, 1)", 
      "    (leftMin, leftMax, leftBST, leftCount) = maxBST(node._left)", 
      "    (rightMin, rightMax, rightBST, rightCount) = maxBST(node._right)", 
      "    if leftBST and rightBST and leftMax and rightMin and leftMax < node._data and rightMin > node._data:", 
      "        return (leftMin, rightMax, True, leftCount + rightCount + 1)", 
      "    return (None, None, False, leftCount if leftCount > rightCount else rightCount)            "
     ], 
     "language": "python", 
     "outputs": [], 
     "prompt_number": 19
    }, 
    {
     "cell_type": "markdown", 
     "source": [
      "###Example 1:", 
      "#### Input:", 
      "           5", 
      "          / \\", 
      "         2   4", 
      "        / \\ ", 
      "       1   3"
     ]
    }, 
    {
     "cell_type": "code", 
     "collapsed": false, 
     "input": [
      "root = BinaryTree(5)", 
      "root._left = BinaryTree(2)", 
      "root._right = BinaryTree(4)", 
      "root._left._left = BinaryTree(1)", 
      "root._left._right = BinaryTree(3)", 
      "print maxBST(root)[3]"
     ], 
     "language": "python", 
     "outputs": [
      {
       "output_type": "stream", 
       "stream": "stdout", 
       "text": [
        "3"
       ]
      }
     ], 
     "prompt_number": 20
    }, 
    {
     "cell_type": "markdown", 
     "source": [
      "### Example 3:", 
      "#### Input:", 
      "", 
      "           50", 
      "         /    \\", 
      "      30       60", 
      "     /  \\     /  \\ ", 
      "    5   20   45    70", 
      "                  /  \\", 
      "                65    80"
     ]
    }, 
    {
     "cell_type": "code", 
     "collapsed": false, 
     "input": [
      "root = BinaryTree(50)", 
      "root._left = BinaryTree(30)", 
      "root._right = BinaryTree(60)", 
      "root._left._left = BinaryTree(5)", 
      "root._left._right = BinaryTree(20)", 
      "root._right._left = BinaryTree(45)", 
      "root._right._right = BinaryTree(70)", 
      "root._right._right._left = BinaryTree(65)", 
      "root._right._right._right = BinaryTree(80)", 
      "print maxBST(root)[3]"
     ], 
     "language": "python", 
     "outputs": [
      {
       "output_type": "stream", 
       "stream": "stdout", 
       "text": [
        "5"
       ]
      }
     ], 
     "prompt_number": 21
    }
   ]
  }
 ]
}