{
 "metadata": {
  "name": "TrimBSTKeysOutsideRange"
 }, 
 "nbformat": 2, 
 "worksheets": [
  {
   "cells": [
    {
     "cell_type": "markdown", 
     "source": [
      "### Remove BST keys outside the given range", 
      "", 
      "Given a Binary Search Tree (BST) and a range [min, max], remove all keys which are outside the given range. The modified tree should also be BST. For example, consider the following BST and range [-10, 13]. ", 
      "> Full problem at http://www.geeksforgeeks.org/remove-bst-keys-outside-the-given-range/"
     ]
    }, 
    {
     "cell_type": "code", 
     "collapsed": true, 
     "input": [
      "import sys", 
      "sys.path.append('.')", 
      "import util", 
      "from util import BinaryTree"
     ], 
     "language": "python", 
     "outputs": [], 
     "prompt_number": 1
    }, 
    {
     "cell_type": "markdown", 
     "source": [
      "The idea is recursively traverse the bst in post order fashion and delete keys that are outside the given range and return the modified root. First lets write code to delete a key from a bst."
     ]
    }, 
    {
     "cell_type": "code", 
     "collapsed": true, 
     "input": [
      "def delete(node, key):", 
      "    if node is None: return", 
      "    if node._data != key:", 
      "        node._left = delete(node._left, key)", 
      "        node._right = delete(node._right, key)", 
      "        return", 
      "    if node.isLeafNode(): return", 
      "    if node._left is None:", 
      "        return node._right", 
      "    elif node._right is None:", 
      "        return node._left", 
      "    succ = node._right", 
      "    while succ is not None:", 
      "        succ = succ._left", 
      "    node._data = succ._data", 
      "    return delete(node.right, succ._data)"
     ], 
     "language": "python", 
     "outputs": [], 
     "prompt_number": 6
    }, 
    {
     "cell_type": "markdown", 
     "source": [
      "Now lets write code to trim the bst"
     ]
    }, 
    {
     "cell_type": "code", 
     "collapsed": true, 
     "input": [
      "def trim(root, k1, k2):", 
      "    if root is None: return", 
      "    root._left = trim(root._left, k1, k2)", 
      "    root._right = trim(root._right, k1, k2)", 
      "    if root._data < k1 or root._data > k2:", 
      "        return delete(root, root._data)", 
      "    return root"
     ], 
     "language": "python", 
     "outputs": [], 
     "prompt_number": 7
    }, 
    {
     "cell_type": "markdown", 
     "source": [
      "Now lets construct the binary search tree and call trim on it."
     ]
    }, 
    {
     "cell_type": "code", 
     "collapsed": false, 
     "input": [
      "root = BinaryTree(6)", 
      "root._left = BinaryTree(-13)", 
      "root._right = BinaryTree(14)", 
      "root._left._right = BinaryTree(-8)", 
      "root._right._left = BinaryTree(13)", 
      "root._right._right = BinaryTree(15)", 
      "root._right._left._left = BinaryTree(7)", 
      "", 
      "util.inorder(root)", 
      "print ''", 
      "trim(root, -10, 13)", 
      "util.inorder(root)"
     ], 
     "language": "python", 
     "outputs": [
      {
       "output_type": "stream", 
       "stream": "stdout", 
       "text": [
        "-13   -8   6   7   13   14   15  ", 
        "", 
        "-8   6   7   13  "
       ]
      }
     ], 
     "prompt_number": 8
    }
   ]
  }
 ]
}