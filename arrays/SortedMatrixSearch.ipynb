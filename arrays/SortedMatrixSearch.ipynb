{
 "metadata": {
  "name": "SortedMatrixSearch"
 },
 "nbformat": 3,
 "nbformat_minor": 0,
 "worksheets": [
  {
   "cells": [
    {
     "cell_type": "markdown",
     "metadata": {},
     "source": [
      "### Search in a row wise and column wise sorted matrix\n",
      "\n",
      "Given an n x n matrix, where every row and column is sorted in increasing order. Given a number x, how to decide whether this x is in the matrix. The designed algorithm should have linear time complexity.\n",
      "Full problem at http://www.geeksforgeeks.org/search-in-row-wise-and-column-wise-sorted-matrix/"
     ]
    },
    {
     "cell_type": "code",
     "collapsed": false,
     "input": [
      "def print_matrix(mat):\n",
      "    print\n",
      "    for row in mat:\n",
      "        print row\n",
      "    print"
     ],
     "language": "python",
     "metadata": {},
     "outputs": []
    }
   ],
   "metadata": {}
  }
 ]
}