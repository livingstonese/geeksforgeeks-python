{
 "metadata": {
  "name": "SortedMatrixSearch"
 },
 "nbformat": 3,
 "nbformat_minor": 0,
 "worksheets": [
  {
   "cells": [
    {
     "cell_type": "markdown",
     "metadata": {},
     "source": [
      "### Search in a row wise and column wise sorted matrix\n",
      "\n",
      "Given an n x n matrix, where every row and column is sorted in increasing order. Given a number x, how to decide whether this x is in the matrix. The designed algorithm should have linear time complexity.\n",
      "Full problem at http://www.geeksforgeeks.org/search-in-row-wise-and-column-wise-sorted-matrix/"
     ]
    },
    {
     "cell_type": "code",
     "collapsed": false,
     "input": [
      "def find(mat, val):\n",
      "    i=0\n",
      "    j=len(mat[0])-1\n",
      "    while i < len(mat) and j >= 0:\n",
      "        if mat[i][j] == val:\n",
      "            print \"Found element %d at row %d column %d\" % (val, i, j)\n",
      "            return\n",
      "        elif mat[i][j] < val:\n",
      "            i+=1\n",
      "        else:\n",
      "            j-=1\n",
      "    print \"Element %d not found\" % val"
     ],
     "language": "python",
     "metadata": {},
     "outputs": [],
     "prompt_number": 8
    },
    {
     "cell_type": "code",
     "collapsed": false,
     "input": [
      "mat = [[10, 20, 30, 40],\n",
      "       [15, 25, 35, 45],\n",
      "       [27, 29, 37, 48],\n",
      "       [32, 33, 39, 50]]\n",
      "find(mat, 29)\n",
      "find(mat, 32)\n",
      "find(mat, 15)\n",
      "find(mat, 56)\n",
      "find(mat, 48)"
     ],
     "language": "python",
     "metadata": {},
     "outputs": [
      {
       "output_type": "stream",
       "stream": "stdout",
       "text": [
        "Found element 29 at row 2 column 1\n",
        "Found element 32 at row 3 column 0\n",
        "Found element 15 at row 1 column 0\n",
        "Element 56 not found\n",
        "Found element 48 at row 2 column 3\n"
       ]
      }
     ],
     "prompt_number": 9
    }
   ],
   "metadata": {}
  }
 ]
}