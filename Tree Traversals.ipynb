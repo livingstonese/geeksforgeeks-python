{
 "metadata": {
  "name": "Tree Traversals"
 }, 
 "nbformat": 2, 
 "worksheets": [
  {
   "cells": [
    {
     "cell_type": "code", 
     "collapsed": true, 
     "input": [
      "class Node(object):", 
      "    def __init__(self, data, left=None, right=None):", 
      "        self.data = data", 
      "        self.left = left", 
      "        self.right = right", 
      "    def __str__(self):", 
      "        return str(self.data)", 
      "    def __repr__(self):", 
      "        return str(self.data)"
     ], 
     "language": "python", 
     "outputs": [], 
     "prompt_number": 22
    }, 
    {
     "cell_type": "code", 
     "collapsed": true, 
     "input": [
      "root = Node(1, Node(2, Node(4), Node(5)), Node(3, Node(6), Node(7)))"
     ], 
     "language": "python", 
     "outputs": [], 
     "prompt_number": 38
    }, 
    {
     "cell_type": "markdown", 
     "source": [
      "### Inorder Tree Traversal without recursion using a stack"
     ]
    }, 
    {
     "cell_type": "code", 
     "collapsed": true, 
     "input": [
      "def in_order_without_recursion(root):", 
      "    stack = []", 
      "    current = root", 
      "    while len(stack) > 0 or current is not None:", 
      "        while current is not None:", 
      "            stack.append(current)", 
      "            current = current.left", 
      "        current = stack.pop()", 
      "        print current,", 
      "        current = current.right"
     ], 
     "language": "python", 
     "outputs": [], 
     "prompt_number": 39
    }, 
    {
     "cell_type": "code", 
     "collapsed": false, 
     "input": [
      "in_order_without_recursion(root)"
     ], 
     "language": "python", 
     "outputs": [
      {
       "output_type": "stream", 
       "stream": "stdout", 
       "text": [
        "4 2 5 1 6 3 7"
       ]
      }
     ], 
     "prompt_number": 40
    }, 
    {
     "cell_type": "markdown", 
     "source": [
      "### Inorder Tree Traversal without recursion without using a stack"
     ]
    }, 
    {
     "cell_type": "code", 
     "collapsed": true, 
     "input": [
      "def in_order_without_recursion_without_stack(root):", 
      "    current = root", 
      "    while current is not None:", 
      "        if current.left is None:", 
      "            print current,", 
      "            current = current.right", 
      "            continue", 
      "        pre = current.left", 
      "        while pre.right is not None and pre.right != current:", 
      "            pre = pre.right", 
      "        if pre.right == None:", 
      "            pre.right = current", 
      "            current = current.left", 
      "        else:", 
      "            pre.right = None", 
      "            print current,", 
      "            current = current.right"
     ], 
     "language": "python", 
     "outputs": [], 
     "prompt_number": 60
    }, 
    {
     "cell_type": "code", 
     "collapsed": false, 
     "input": [
      "in_order_without_recursion_without_stack(root)"
     ], 
     "language": "python", 
     "outputs": [
      {
       "output_type": "stream", 
       "stream": "stdout", 
       "text": [
        "4 2 5 1 6 3 7"
       ]
      }
     ], 
     "prompt_number": 61
    }, 
    {
     "cell_type": "markdown", 
     "source": [
      "### Preorder Tree Traversal without recursion using a stack"
     ]
    }, 
    {
     "cell_type": "code", 
     "collapsed": false, 
     "input": [
      "def pre_order_without_recursion(root):", 
      "    stack = [root]", 
      "    while len(stack) > 0:", 
      "        current = stack.pop()", 
      "        print current,", 
      "        if current.right is not None:", 
      "            stack.append(current.right)", 
      "        if current.left is not None:", 
      "            stack.append(current.left)"
     ], 
     "language": "python", 
     "outputs": [], 
     "prompt_number": 68
    }, 
    {
     "cell_type": "code", 
     "collapsed": false, 
     "input": [
      "pre_order_without_recursion(root)"
     ], 
     "language": "python", 
     "outputs": [
      {
       "output_type": "stream", 
       "stream": "stdout", 
       "text": [
        "1 2 4 5 3 6 7"
       ]
      }
     ], 
     "prompt_number": 69
    }, 
    {
     "cell_type": "markdown", 
     "source": [
      "### Preorder Tree Traversal without recursion without using a stack"
     ]
    }, 
    {
     "cell_type": "code", 
     "collapsed": true, 
     "input": [
      "def pre_order_without_recursion_without_stack(root):", 
      "    current = root", 
      "    while current is not None:", 
      "        if current.left is None:", 
      "            print current,", 
      "            current = current.right", 
      "            continue", 
      "        pre = current.left", 
      "        while pre.right is not None and pre.right != current:", 
      "            pre = pre.right", 
      "        if pre.right == None:", 
      "            pre.right = current", 
      "            print current,", 
      "            current = current.left", 
      "        else:", 
      "            pre.right = None", 
      "            current = current.right    "
     ], 
     "language": "python", 
     "outputs": [], 
     "prompt_number": 70
    }, 
    {
     "cell_type": "code", 
     "collapsed": false, 
     "input": [
      "pre_order_without_recursion_without_stack(root)"
     ], 
     "language": "python", 
     "outputs": [
      {
       "output_type": "stream", 
       "stream": "stdout", 
       "text": [
        "1 2 4 5 3 6 7"
       ]
      }
     ], 
     "prompt_number": 71
    }, 
    {
     "cell_type": "markdown", 
     "source": [
      "### Postorder Tree Traversal using two stacks"
     ]
    }, 
    {
     "cell_type": "code", 
     "collapsed": true, 
     "input": [
      "def pos_order_using_two_stacks(root):", 
      "    stack1 = [root]", 
      "    stack2 = []", 
      "    while len(stack1) > 0:", 
      "        current = stack1.pop()", 
      "        stack2.append(current)", 
      "        if current.left is not None:", 
      "            stack1.append(current.left)", 
      "        if current.right is not None:", 
      "            stack1.append(current.right)", 
      "    stack2.reverse()", 
      "    print stack2"
     ], 
     "language": "python", 
     "outputs": [], 
     "prompt_number": 77
    }, 
    {
     "cell_type": "code", 
     "collapsed": false, 
     "input": [
      "pos_order_using_two_stacks(root)"
     ], 
     "language": "python", 
     "outputs": [
      {
       "output_type": "stream", 
       "stream": "stdout", 
       "text": [
        "[4, 5, 2, 6, 7, 3, 1]"
       ]
      }
     ], 
     "prompt_number": 78
    }, 
    {
     "cell_type": "markdown", 
     "source": [
      "### Postorder Tree Traversal using one stack"
     ]
    }, 
    {
     "cell_type": "code", 
     "collapsed": false, 
     "input": [
      "def pos_order_using_one_stack(root):", 
      "    stack = []", 
      "    current = root", 
      "    while current is not None or len(stack) > 0:", 
      "        while current is not None:", 
      "            if current.right is not None:", 
      "                stack.append(current.right)", 
      "            stack.append(current)", 
      "            current = current.left", 
      "        current = stack.pop()", 
      "        if len(stack) > 0 and stack[-1] == current.right:", 
      "            stack.pop()", 
      "            stack.append(current)", 
      "            current = current.right", 
      "        else:", 
      "            print current,", 
      "            current = None"
     ], 
     "language": "python", 
     "outputs": [], 
     "prompt_number": 85
    }, 
    {
     "cell_type": "code", 
     "collapsed": false, 
     "input": [
      "pos_order_using_one_stack(root)"
     ], 
     "language": "python", 
     "outputs": [
      {
       "output_type": "stream", 
       "stream": "stdout", 
       "text": [
        "4 5 2 6 7 3 1"
       ]
      }
     ], 
     "prompt_number": 86
    }, 
    {
     "cell_type": "code", 
     "collapsed": true, 
     "input": [], 
     "language": "python", 
     "outputs": []
    }
   ]
  }
 ]
}