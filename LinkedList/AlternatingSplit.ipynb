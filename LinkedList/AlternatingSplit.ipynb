{
 "metadata": {
  "name": "AlternatingSplit"
 },
 "nbformat": 3,
 "nbformat_minor": 0,
 "worksheets": [
  {
   "cells": [
    {
     "cell_type": "markdown",
     "metadata": {},
     "source": [
      "### Alternating split of a given Singly Linked List\n",
      "\n",
      "Write a function AlternatingSplit() that takes one list and divides up its nodes to make two smaller lists \u2018a\u2019 and \u2018b\u2019. The sublists should be made from alternating elements in the original list. So if the original list is 0->1->0->1->0->1 then one sublist should be 0->0->0 and the other should be 1->1->1."
     ]
    },
    {
     "cell_type": "code",
     "collapsed": false,
     "input": [
      "class Node:\n",
      "    def __init__(self, data):\n",
      "        self._data = data\n",
      "        self._next = None"
     ],
     "language": "python",
     "metadata": {},
     "outputs": [],
     "prompt_number": 1
    },
    {
     "cell_type": "code",
     "collapsed": false,
     "input": [
      "def alternatingSplit(node):\n",
      "    if node is None or node._next is None:\n",
      "        return node, None\n",
      "    a, b = node, node._next\n",
      "    a._next, b._next = alternatingSplit(b._next)\n",
      "    return a,b"
     ],
     "language": "python",
     "metadata": {},
     "outputs": [],
     "prompt_number": 2
    },
    {
     "cell_type": "code",
     "collapsed": false,
     "input": [
      "def printList(node):\n",
      "    while node is not None:\n",
      "        print node._data, ' ',\n",
      "        node = node._next\n",
      "    print ''"
     ],
     "language": "python",
     "metadata": {},
     "outputs": [],
     "prompt_number": 3
    },
    {
     "cell_type": "code",
     "collapsed": false,
     "input": [
      "def constructLinkedList(arr):\n",
      "    head = Node(arr[0])\n",
      "    cur = head\n",
      "    for el in arr[1:]:\n",
      "        cur._next = Node(el)\n",
      "        cur = cur._next\n",
      "    return head"
     ],
     "language": "python",
     "metadata": {},
     "outputs": [],
     "prompt_number": 5
    },
    {
     "cell_type": "code",
     "collapsed": false,
     "input": [
      "head = constructLinkedList([0,1,0,1,0,1])\n",
      "printList(head)\n",
      "a, b = alternatingSplit(head)\n",
      "printList(a)\n",
      "printList(b)"
     ],
     "language": "python",
     "metadata": {},
     "outputs": [
      {
       "output_type": "stream",
       "stream": "stdout",
       "text": [
        "\n",
        "\n",
        "\n"
       ]
      }
     ],
     "prompt_number": 6
    },
    {
     "cell_type": "code",
     "collapsed": false,
     "input": [],
     "language": "python",
     "metadata": {},
     "outputs": []
    }
   ],
   "metadata": {}
  }
 ]
}