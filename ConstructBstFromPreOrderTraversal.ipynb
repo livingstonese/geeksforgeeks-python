{
 "metadata": {
  "name": "ConstructBstFromPreOrderTraversal"
 }, 
 "nbformat": 2, 
 "worksheets": [
  {
   "cells": [
    {
     "cell_type": "markdown", 
     "source": [
      "### Construct BST from given preorder traversal | Set 1", 
      "", 
      "Full problem can be found at http://www.geeksforgeeks.org/construct-bst-from-given-preorder-traversa/", 
      "<pre>", 
      "Given preorder traversal of a binary search tree, construct the BST.", 
      "", 
      "For example, if the given traversal is {10, 5, 1, 7, 40, 50}, then the output should be root of following tree.", 
      "", 
      "     10", 
      "   /   \\", 
      "  5     40", 
      " /  \\      \\", 
      "1    7      50", 
      "</pre>"
     ]
    }, 
    {
     "cell_type": "code", 
     "collapsed": true, 
     "input": [
      "import sys", 
      "sys.path.append('.')", 
      "import util", 
      "from util import BinaryTree"
     ], 
     "language": "python", 
     "outputs": [], 
     "prompt_number": 1
    }, 
    {
     "cell_type": "code", 
     "collapsed": true, 
     "input": [
      "def construct(pre):", 
      "    if not pre: return", 
      "    root = BinaryTree(pre[0])", 
      "    i = 0", 
      "    for i, val in enumerate(pre[1:]):", 
      "        if val > pre[0]:", 
      "            break", 
      "    root._left = construct(pre[1:i+1])", 
      "    root._right = construct(pre[i+1:])", 
      "    return root"
     ], 
     "language": "python", 
     "outputs": [], 
     "prompt_number": 7
    }, 
    {
     "cell_type": "code", 
     "collapsed": false, 
     "input": [
      "pre = [10, 5, 1, 7, 40, 50]", 
      "root = construct(pre)", 
      "util.inorder(root)"
     ], 
     "language": "python", 
     "outputs": [
      {
       "output_type": "stream", 
       "stream": "stdout", 
       "text": [
        "1   5   7   10   40   50  "
       ]
      }
     ], 
     "prompt_number": 8
    }
   ]
  }
 ]
}