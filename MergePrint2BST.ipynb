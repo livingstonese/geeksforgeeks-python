{
 "metadata": {
  "name": "MergePrint2BST"
 }, 
 "nbformat": 2, 
 "worksheets": [
  {
   "cells": [
    {
     "cell_type": "markdown", 
     "source": [
      "### Merge two BSTs with limited extra space", 
      "", 
      "<pre>", 
      "Given two Binary Search Trees(BST), print the elements of both BSTs in sorted form. The expected time complexity is O(m+n) where m is the number of nodes in first tree and n is the number of nodes in second tree. Maximum allowed auxiliary space is O(height of the first tree + height of the second tree). Full problem <a href=\"http://www.geeksforgeeks.org/merge-two-bsts-with-limited-extra-space/\">here</a>", 
      "</pre>"
     ]
    }, 
    {
     "cell_type": "code", 
     "collapsed": true, 
     "input": [
      "import sys", 
      "sys.path.append('.')", 
      "import util", 
      "from util import BinaryTree"
     ], 
     "language": "python", 
     "outputs": [], 
     "prompt_number": 1
    }, 
    {
     "cell_type": "markdown", 
     "source": [
      "The idea is to do iterative inorder traversal for both the bst's parallely."
     ]
    }, 
    {
     "cell_type": "code", 
     "collapsed": false, 
     "input": [
      "def printBst(a, b):", 
      "    s1, s2 = [], []", 
      "    while a is not None or s1 or b is not None or s2:", 
      "        while a is not None:", 
      "            s1.append(a)", 
      "            a = a._left", 
      "        while b is not None:", 
      "            s2. append(b)", 
      "            b = b._left", 
      "        if s1:", 
      "            a = s1.pop()", 
      "        if s2:", 
      "            b = s2.pop()", 
      "        if a and b:", 
      "            if a._data < b._data:", 
      "                print a._data, ' ',", 
      "                if a._right:", 
      "                    a = a._right", 
      "                else:", 
      "                    a = None", 
      "                s2.append(b)", 
      "                b = None", 
      "            else:", 
      "                print b._data, ' ',", 
      "                if b._right:", 
      "                    b = b._right", 
      "                else:", 
      "                    b = None", 
      "                s1.append(a)", 
      "                a = None", 
      "        elif a:", 
      "            print a._data, ' ',", 
      "            if a._right:", 
      "                a = a._right", 
      "            else:", 
      "                a = None", 
      "        elif b:", 
      "            print b._data, ' ',", 
      "            if b._right:", 
      "                b = b._right", 
      "            else:", 
      "                b = None"
     ], 
     "language": "python", 
     "outputs": [
      {
       "output_type": "stream", 
       "stream": "stdout", 
       "text": [
        ""
       ]
      }
     ], 
     "prompt_number": 9
    }, 
    {
     "cell_type": "markdown", 
     "source": [
      "#### Examples:", 
      "<pre>", 
      "First BST ", 
      "       3", 
      "    /     \\", 
      "   1       5", 
      "Second BST", 
      "    4", 
      "  /   \\", 
      "2       6", 
      "Output: 1 2 3 4 5 6", 
      "</pre>"
     ]
    }, 
    {
     "cell_type": "code", 
     "collapsed": false, 
     "input": [
      "a = BinaryTree(3)", 
      "a._left = BinaryTree(1)", 
      "a._right = BinaryTree(5)", 
      "", 
      "b = BinaryTree(4)", 
      "b._left = BinaryTree(2)", 
      "b._right = BinaryTree(6)", 
      "", 
      "printBst(a, b)"
     ], 
     "language": "python", 
     "outputs": [
      {
       "output_type": "stream", 
       "stream": "stdout", 
       "text": [
        "1   2   3   4   5   6  "
       ]
      }
     ], 
     "prompt_number": 10
    }, 
    {
     "cell_type": "markdown", 
     "source": [
      "<pre>", 
      "First BST ", 
      "          8", 
      "         / \\", 
      "        2   10", 
      "       /", 
      "      1", 
      "Second BST ", 
      "          5", 
      "         / ", 
      "        3  ", 
      "       /", 
      "      0", 
      "Output: 0 1 2 3 5 8 10 ", 
      "</pre>"
     ]
    }, 
    {
     "cell_type": "code", 
     "collapsed": false, 
     "input": [
      "a = BinaryTree(8)", 
      "a._left = BinaryTree(2)", 
      "a._right = BinaryTree(10)", 
      "a._left._left = BinaryTree(1)", 
      "", 
      "b = BinaryTree(5)", 
      "b._left = BinaryTree(3)", 
      "b._left._left = BinaryTree(0)", 
      "", 
      "printBst(a, b)"
     ], 
     "language": "python", 
     "outputs": [
      {
       "output_type": "stream", 
       "stream": "stdout", 
       "text": [
        "0   1   2   3   5   8   10  "
       ]
      }
     ], 
     "prompt_number": 11
    }
   ]
  }
 ]
}