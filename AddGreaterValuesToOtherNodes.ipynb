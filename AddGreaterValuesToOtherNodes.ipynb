{
 "metadata": {
  "name": "AddGreaterValuesToOtherNodes"
 }, 
 "nbformat": 2, 
 "worksheets": [
  {
   "cells": [
    {
     "cell_type": "markdown", 
     "source": [
      "### Add all greater values to every node in a given BST", 
      "Given a Binary Search Tree (BST), modify it so that all greater values in the given BST are added to every node. For example, consider the following BST.", 
      "Full problem at http://www.geeksforgeeks.org/add-greater-values-every-node-given-bst/"
     ]
    }, 
    {
     "cell_type": "code", 
     "collapsed": true, 
     "input": [
      "import sys", 
      "sys.path.append('.')", 
      "import util", 
      "from util import BinaryTree"
     ], 
     "language": "python", 
     "outputs": [], 
     "prompt_number": 1
    }, 
    {
     "cell_type": "code", 
     "collapsed": false, 
     "input": [
      "prev = None", 
      "def addGreater(node):", 
      "    global prev", 
      "    if node is None: return", 
      "    addGreater(node._right)", 
      "    if prev is not None:", 
      "        node._data = node._data + prev._data", 
      "    prev = node", 
      "    addGreater(node._left)"
     ], 
     "language": "python", 
     "outputs": [], 
     "prompt_number": 7
    }, 
    {
     "cell_type": "markdown", 
     "source": [
      "#### Example 1", 
      "", 
      "> Input:", 
      "", 
      "              50", 
      "           /      \\", 
      "         30        70", 
      "        /   \\      /  \\", 
      "      20    40    60   80 "
     ]
    }, 
    {
     "cell_type": "code", 
     "collapsed": false, 
     "input": [
      "root = BinaryTree(50)", 
      "root._left = BinaryTree(30)", 
      "root._right = BinaryTree(70)", 
      "root._left._left = BinaryTree(20)", 
      "root._left._right = BinaryTree(40)", 
      "root._right._left = BinaryTree(60)", 
      "root._right._right = BinaryTree(80)", 
      "", 
      "util.inorder(root)", 
      "print ''", 
      "addGreater(root)", 
      "util.inorder(root)"
     ], 
     "language": "python", 
     "outputs": [
      {
       "output_type": "stream", 
       "stream": "stdout", 
       "text": [
        "20   30   40   50   60   70   80  ", 
        "", 
        "350   330   300   260   210   150   80  "
       ]
      }
     ], 
     "prompt_number": 8
    }, 
    {
     "cell_type": "code", 
     "collapsed": true, 
     "input": [], 
     "language": "python", 
     "outputs": []
    }
   ]
  }
 ]
}