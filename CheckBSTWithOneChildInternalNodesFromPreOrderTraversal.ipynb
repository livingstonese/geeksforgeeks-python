{
 "metadata": {
  "name": "CheckBSTWithOneChildInternalNodesFromPreOrderTraversal"
 }, 
 "nbformat": 2, 
 "worksheets": [
  {
   "cells": [
    {
     "cell_type": "markdown", 
     "source": [
      "### Check if each internal node of a BST has exactly one child", 
      "", 
      "Given Preorder traversal of a BST, check if each non-leaf node has only one child. Assume that the BST contains unique entries. Full problem at http://www.geeksforgeeks.org/check-if-each-internal-node-of-a-bst-has-exactly-one-child/", 
      "Examples", 
      "", 
      "> Input: pre[] = {20, 10, 11, 13, 12}", 
      "> Output: Yes", 
      "", 
      "The give array represents following BST. In the following BST, every internal", 
      "node has exactly 1 child. Therefore, the output is true.", 
      "", 
      ">        20", 
      ">       /", 
      ">      10", 
      ">       \\", 
      ">        11", 
      ">          \\", 
      ">           13", 
      ">           /", 
      ">         12"
     ]
    }, 
    {
     "cell_type": "code", 
     "collapsed": true, 
     "input": [
      "def isSingleInternalChildBST(a):", 
      "    i, _min, _max, n = 0, None, None, len(a)", 
      "    while i < n:", 
      "        if (_min and a[i] < _min) or (_max and a[i] > _max):", 
      "            break", 
      "        if (i+1) < n:", 
      "            if a[i] < a[i+1] and (_min is None or a[i] > _min):", 
      "                _min = a[i]", 
      "            if a[i] >= a[i+1] and (_max is None or a[i] < _max):", 
      "                _max = a[i]", 
      "        i += 1", 
      "    return i==n"
     ], 
     "language": "python", 
     "outputs": [], 
     "prompt_number": 1
    }, 
    {
     "cell_type": "code", 
     "collapsed": false, 
     "input": [
      "pre = [20, 10, 11, 13, 12]", 
      "print isSingleInternalChildBST(pre)"
     ], 
     "language": "python", 
     "outputs": [
      {
       "output_type": "stream", 
       "stream": "stdout", 
       "text": [
        "True"
       ]
      }
     ], 
     "prompt_number": 2
    }
   ]
  }
 ]
}