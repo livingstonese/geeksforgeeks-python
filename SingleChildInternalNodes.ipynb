{
 "metadata": {
  "name": "SingleChildInternalNodes"
 }, 
 "nbformat": 2, 
 "worksheets": [
  {
   "cells": [
    {
     "cell_type": "markdown", 
     "source": [
      "### Check if each internal node of a BST has exactly one child", 
      "", 
      "Full problem at http://www.geeksforgeeks.org/check-if-each-internal-node-of-a-bst-has-exactly-one-child/", 
      "", 
      "Given Preorder traversal of a BST, check if each non-leaf node has only one child. Assume that the BST contains unique entries.", 
      "", 
      "Examples", 
      "", 
      "Input: pre[] = {20, 10, 11, 13, 12}", 
      "Output: Yes", 
      "The give array represents following BST. In the following BST, every internal", 
      "node has exactly 1 child. Therefor, the output is true.", 
      "", 
      "       20", 
      "       /", 
      "      10", 
      "       \\", 
      "        11", 
      "          \\", 
      "           13", 
      "           /", 
      "         12"
     ]
    }, 
    {
     "cell_type": "markdown", 
     "source": [
      "The idea is to update the allowed min and max values while moving down the pre order traversal array based on the next element. "
     ]
    }, 
    {
     "cell_type": "code", 
     "collapsed": true, 
     "input": [
      "def check(pre):", 
      "    i = 0", 
      "    _min = None", 
      "    _max = None", 
      "    while i < (len(pre) - 1):", 
      "        if (_min is not None and pre[i] < _min) or (_max is not None and pre[i] > _max):", 
      "            return False", 
      "        if pre[i+1] > pre[i]:", 
      "            _min = pre[i]", 
      "        else:", 
      "            _max = pre[i]", 
      "        i +=1", 
      "    return True    "
     ], 
     "language": "python", 
     "outputs": [], 
     "prompt_number": 1
    }, 
    {
     "cell_type": "code", 
     "collapsed": false, 
     "input": [
      "pre = [20,10,11,13,12]", 
      "print check(pre)"
     ], 
     "language": "python", 
     "outputs": [
      {
       "output_type": "stream", 
       "stream": "stdout", 
       "text": [
        "True"
       ]
      }
     ], 
     "prompt_number": 6
    }, 
    {
     "cell_type": "code", 
     "collapsed": false, 
     "input": [
      "pre = [20,10,9,13,12]", 
      "print check(pre)"
     ], 
     "language": "python", 
     "outputs": [
      {
       "output_type": "stream", 
       "stream": "stdout", 
       "text": [
        "False"
       ]
      }
     ], 
     "prompt_number": 5
    }
   ]
  }
 ]
}