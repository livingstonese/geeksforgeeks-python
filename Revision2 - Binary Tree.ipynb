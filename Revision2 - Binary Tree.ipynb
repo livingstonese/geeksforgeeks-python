{
 "metadata": {
  "name": "Revision2 - Binary Tree"
 }, 
 "nbformat": 2, 
 "worksheets": [
  {
   "cells": [
    {
     "cell_type": "code", 
     "collapsed": true, 
     "input": [
      "class Node(object):", 
      "    def __init__(self, data, left=None, right=None):", 
      "        self.data = data", 
      "        self.left = left", 
      "        self.right = right", 
      "        self.next = None", 
      "    def __str__(self):", 
      "        return str(self.data)", 
      "    def __repr__(self):", 
      "        return str(self.data)", 
      "    def is_leaf_node(self):", 
      "        return self.left is None and self.right is None", 
      "    def size(self):", 
      "        return 1 + (self.left.size() if self.left is not None else 0) + (self.right.size() if self.right is not None else 0)", 
      "", 
      "def inorder(root):", 
      "    if root is None:", 
      "        return", 
      "    inorder(root.left)", 
      "    print root,", 
      "    inorder(root.right)"
     ], 
     "language": "python", 
     "outputs": [], 
     "prompt_number": 58
    }, 
    {
     "cell_type": "markdown", 
     "source": [
      "### Construct tree from given inorder and preorder traversals"
     ]
    }, 
    {
     "cell_type": "code", 
     "collapsed": true, 
     "input": [
      "inorder_seq = ['D', 'B', 'E', 'A', 'F', 'C']", 
      "preorder_seq = ['A', 'B', 'D', 'E', 'C', 'F']", 
      "", 
      "def construct_bt_from_inorder_and_preorder(inorder_seq, preorder_seq, in_start, in_end, pre_start, pre_end):", 
      "    assert len(inorder_seq) == len(preorder_seq)", 
      "    assert (in_end-in_start) == (pre_end-pre_start)", 
      "    if in_start > in_end or pre_start > pre_end:", 
      "        return None", 
      "    root = Node(preorder_seq[pre_start])", 
      "    root_in_order_index = None", 
      "    for i in range(in_start, in_end+1):", 
      "        if inorder_seq[i] == preorder_seq[pre_start]:", 
      "            root_in_order_index = i", 
      "    assert root_in_order_index is not None", 
      "    root.left = construct_bt_from_inorder_and_preorder(inorder_seq, preorder_seq, in_start, root_in_order_index-1, pre_start+1, pre_start + (root_in_order_index-in_start))", 
      "    root.right = construct_bt_from_inorder_and_preorder(inorder_seq, preorder_seq, root_in_order_index+1, in_end,  pre_start + (root_in_order_index-in_start) + 1, pre_end)", 
      "    return root"
     ], 
     "language": "python", 
     "outputs": [], 
     "prompt_number": 12
    }, 
    {
     "cell_type": "code", 
     "collapsed": false, 
     "input": [
      "root = construct_bt_from_inorder_and_preorder(inorder_seq, preorder_seq, 0, len(inorder_seq)-1, 0, len(inorder_seq)-1)"
     ], 
     "language": "python", 
     "outputs": [], 
     "prompt_number": 13
    }, 
    {
     "cell_type": "code", 
     "collapsed": false, 
     "input": [
      "inorder(root)"
     ], 
     "language": "python", 
     "outputs": [
      {
       "output_type": "stream", 
       "stream": "stdout", 
       "text": [
        "D B E A F C"
       ]
      }
     ], 
     "prompt_number": 14
    }, 
    {
     "cell_type": "markdown", 
     "source": [
      "### Print Ancestors of a given node in Binary Tree"
     ]
    }, 
    {
     "cell_type": "code", 
     "collapsed": true, 
     "input": [
      "root = Node(1, Node(2, Node(4), Node(5)), Node(3, Node(6), Node(7)))"
     ], 
     "language": "python", 
     "outputs": [], 
     "prompt_number": 15
    }, 
    {
     "cell_type": "code", 
     "collapsed": true, 
     "input": [
      "def print_ancestors(root, data):", 
      "    if root is None:", 
      "        return False", 
      "    if root.data == data:", 
      "        print root,", 
      "        return True", 
      "    retVal = print_ancestors(root.left, data)", 
      "    if retVal:", 
      "        print root,", 
      "        return True", 
      "    retVal = print_ancestors(root.right, data)", 
      "    if retVal:", 
      "        print root,", 
      "        return True"
     ], 
     "language": "python", 
     "outputs": [], 
     "prompt_number": 16
    }, 
    {
     "cell_type": "code", 
     "collapsed": false, 
     "input": [
      "print_ancestors(root, 7)"
     ], 
     "language": "python", 
     "outputs": [
      {
       "output_type": "stream", 
       "stream": "stdout", 
       "text": [
        "7 3 1"
       ]
      }, 
      {
       "output_type": "pyout", 
       "prompt_number": 21, 
       "text": [
        "True"
       ]
      }, 
      {
       "output_type": "stream", 
       "stream": "stdout", 
       "text": [
        ""
       ]
      }
     ], 
     "prompt_number": 21
    }, 
    {
     "cell_type": "markdown", 
     "source": [
      "### Check if a given Binary Tree is SumTree"
     ]
    }, 
    {
     "cell_type": "code", 
     "collapsed": false, 
     "input": [
      "root = Node(26, Node(10, Node(4), Node(6)), Node(3, right=Node(3)))", 
      "", 
      "def is_sum_tree(root):", 
      "    if root is None or root.is_leaf_node():", 
      "        return True", 
      "    if not is_sum_tree(root.left):", 
      "        return False", 
      "    if not is_sum_tree(root.right):", 
      "        return False", 
      "    left_sum = 0 if root.left is None else (root.left.data if root.left.is_leaf_node() else root.left.data * 2)", 
      "    right_sum = 0 if root.right is None else (root.right.data if root.right.is_leaf_node() else root.right.data * 2)", 
      "    return root.data == (left_sum + right_sum)", 
      "", 
      "is_sum_tree(root)"
     ], 
     "language": "python", 
     "outputs": [
      {
       "output_type": "pyout", 
       "prompt_number": 26, 
       "text": [
        "True"
       ]
      }
     ], 
     "prompt_number": 26
    }, 
    {
     "cell_type": "markdown", 
     "source": [
      "### Connect nodes at same level"
     ]
    }, 
    {
     "cell_type": "code", 
     "collapsed": true, 
     "input": [
      "def levelorder(root):", 
      "    max_level = [-1]", 
      "    def levelorder_util(root, level):", 
      "        if root is None:", 
      "            return", 
      "        if level > max_level[0]:", 
      "            max_level[0] = level", 
      "            current = root", 
      "            while current is not None:", 
      "                print current,", 
      "                current = current.next", 
      "            print", 
      "        levelorder_util(root.left, level+1)", 
      "        levelorder_util(root.right, level+1)", 
      "    levelorder_util(root, 0)"
     ], 
     "language": "python", 
     "outputs": [], 
     "prompt_number": 48
    }, 
    {
     "cell_type": "code", 
     "collapsed": true, 
     "input": [
      "def connect(root):", 
      "    def get_next_right(node):", 
      "        tmp = node", 
      "        while tmp is not None:", 
      "            if tmp.left is not None:", 
      "                return tmp.left", 
      "            if tmp.right is not None:", 
      "                return tmp.right", 
      "            tmp = tmp.next", 
      "        return None", 
      "    max_level = [-1]", 
      "    def connect_util(root, level):", 
      "        if root is None:", 
      "            return", 
      "        if level > max_level[0]:", 
      "            max_level[0] = level", 
      "            if root.left is not None:", 
      "                root.left.next = root.right if root.right is not None else get_next_right(root.next)", 
      "            if root.right is not None:", 
      "                root.right.next = get_next_right(root.next)", 
      "        connect_util(root.left, level+1)", 
      "        connect_util(root.right, level+1)", 
      "    connect_util(root, 0)            "
     ], 
     "language": "python", 
     "outputs": [], 
     "prompt_number": 49
    }, 
    {
     "cell_type": "code", 
     "collapsed": false, 
     "input": [
      "root = Node(26, Node(10, Node(4), Node(6)), Node(3, right=Node(3)))", 
      "connect(root)", 
      "levelorder(root)"
     ], 
     "language": "python", 
     "outputs": [
      {
       "output_type": "stream", 
       "stream": "stdout", 
       "text": [
        "26", 
        "10 3", 
        "4 6 3"
       ]
      }
     ], 
     "prompt_number": 50
    }, 
    {
     "cell_type": "markdown", 
     "source": [
      "### Construct special binary tree from given inorder traversal", 
      "", 
      "In the special binary tree keys of all nodes are greater than the keys in the left and right subtrees. kind of like maxHeap"
     ]
    }, 
    {
     "cell_type": "code", 
     "collapsed": false, 
     "input": [
      "inorder_seq = [1, 5, 10, 40, 30, 15, 28, 20]", 
      "", 
      "def construct(inorder_seq, start, end):", 
      "    if start > end:", 
      "        return", 
      "    max_index = start", 
      "    for i in range(start+1, end+1):", 
      "        if inorder_seq[i] > inorder_seq[max_index]:", 
      "            max_index = i", 
      "    root = Node(inorder_seq[max_index])", 
      "    root.left = construct(inorder_seq, start, max_index-1)", 
      "    root.right = construct(inorder_seq, max_index+1, end)", 
      "    return root", 
      "", 
      "root = construct(inorder_seq, 0, len(inorder_seq)-1)", 
      "inorder(root)"
     ], 
     "language": "python", 
     "outputs": [
      {
       "output_type": "stream", 
       "stream": "stdout", 
       "text": [
        "1 5 10 40 30 15 28 20"
       ]
      }
     ], 
     "prompt_number": 54
    }, 
    {
     "cell_type": "markdown", 
     "source": [
      "### Construct special tree from given preorder traversal", 
      "", 
      "Given an array \u2018pre[]\u2018 that represents Preorder traversal of a spacial binary tree where every node has either 0 or 2 children. One more array \u2018preLN[]\u2018 is given which has only two possible values \u2018L\u2019 and \u2018N\u2019. The value \u2018L\u2019 in \u2018preLN[]\u2018 indicates that the corresponding node in Binary Tree is a leaf node and value \u2018N\u2019 indicates that the corresponding node is non-leaf node. Write a function to construct the tree from the given two arrays."
     ]
    }, 
    {
     "cell_type": "code", 
     "collapsed": false, 
     "input": [
      "pre = [10, 30, 20, 5, 15]", 
      "preLN = ['N', 'N', 'L', 'L', 'L']", 
      "", 
      "def construct(pre, preLN, start, max_length):", 
      "    if start >= max_length:", 
      "        return", 
      "    root = Node(pre[start])", 
      "    if preLN[start] == 'N':", 
      "        root.left = construct(pre, preLN, start + 1, max_length)", 
      "        root.right = construct(pre, preLN, start + 1 + root.left.size(), max_length)", 
      "    return root", 
      "", 
      "root = construct(pre, preLN, 0, len(pre))", 
      "inorder(root)"
     ], 
     "language": "python", 
     "outputs": [
      {
       "output_type": "stream", 
       "stream": "stdout", 
       "text": [
        "20 30 5 10 15"
       ]
      }
     ], 
     "prompt_number": 59
    }, 
    {
     "cell_type": "markdown", 
     "source": [
      "### Boundary Traversal of a tree"
     ]
    }, 
    {
     "cell_type": "code", 
     "collapsed": false, 
     "input": [
      "root = Node(20, Node(8, Node(4), Node(12, Node(10), Node(14))), Node(22, right=Node(25)))", 
      "", 
      "def boundary(root):", 
      "    ", 
      "    def print_left_boundary(root):", 
      "        if root is None:", 
      "            return", 
      "        if root.left is not None:", 
      "            print root,", 
      "            print_left_boundary(root.left)", 
      "        elif root.right is not None:", 
      "            print root,", 
      "            print_left_boundary(root.right)", 
      "    ", 
      "    def print_right_boundary(root):", 
      "        if root is None:", 
      "            return", 
      "        if root.right is not None:", 
      "            print_right_boundary(root.right)", 
      "            print root,", 
      "            ", 
      "        elif root.left is not None:", 
      "            print_right_boundary(root.left)", 
      "            print root,", 
      "    ", 
      "    def print_leaves(root):", 
      "        if root is None:", 
      "            return", 
      "        if root.is_leaf_node():", 
      "            print root,", 
      "            return", 
      "        print_leaves(root.left)", 
      "        print_leaves(root.right)", 
      "    ", 
      "    print root,", 
      "    print_left_boundary(root.left)", 
      "    print_leaves(root.left)", 
      "    print_leaves(root.right)", 
      "    print_right_boundary(root.right)", 
      "", 
      "boundary(root)"
     ], 
     "language": "python", 
     "outputs": [
      {
       "output_type": "stream", 
       "stream": "stdout", 
       "text": [
        "20 8 4 10 14 25 22"
       ]
      }
     ], 
     "prompt_number": 65
    }, 
    {
     "cell_type": "markdown", 
     "source": [
      "### Find depth of the deepest odd level leaf node"
     ]
    }, 
    {
     "cell_type": "code", 
     "collapsed": false, 
     "input": [], 
     "language": "python", 
     "outputs": [], 
     "prompt_number": 66
    }
   ]
  }
 ]
}